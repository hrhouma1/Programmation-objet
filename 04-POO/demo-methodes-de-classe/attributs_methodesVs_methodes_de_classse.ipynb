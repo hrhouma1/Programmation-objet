{
  "nbformat": 4,
  "nbformat_minor": 0,
  "metadata": {
    "colab": {
      "provenance": []
    },
    "kernelspec": {
      "name": "python3",
      "display_name": "Python 3"
    },
    "language_info": {
      "name": "python"
    }
  },
  "cells": [
    {
      "cell_type": "code",
      "execution_count": 22,
      "metadata": {
        "id": "N2xub_Cxkfcq"
      },
      "outputs": [],
      "source": [
        "class Voiture:\n",
        "    # Attribut de classe (commun à toutes les instances)\n",
        "    nombre_de_roues = 4\n",
        "\n",
        "    def __init__(self, marque, couleur):\n",
        "        # Attributs d'instance (propres à chaque instance)\n",
        "        self.marque = marque\n",
        "        self.couleur = couleur"
      ]
    },
    {
      "cell_type": "code",
      "source": [
        "# Création de deux instances de la classe Voiture\n",
        "voiture1 = Voiture(\"Toyota\", \"Rouge\")\n",
        "voiture2 = Voiture(\"BMW\", \"Bleu\")\n",
        "\n",
        "# Affichage des attributs d'instance\n",
        "print(f\"Voiture 1: Marque = {voiture1.marque}, Couleur = {voiture1.couleur}\")\n",
        "print(f\"Voiture 2: Marque = {voiture2.marque}, Couleur = {voiture2.couleur}\")"
      ],
      "metadata": {
        "colab": {
          "base_uri": "https://localhost:8080/"
        },
        "id": "pgEZoCdTl9nH",
        "outputId": "c262c9d9-b040-431b-97b6-8b0cdef98f99"
      },
      "execution_count": 23,
      "outputs": [
        {
          "output_type": "stream",
          "name": "stdout",
          "text": [
            "Voiture 1: Marque = Toyota, Couleur = Rouge\n",
            "Voiture 2: Marque = BMW, Couleur = Bleu\n"
          ]
        }
      ]
    },
    {
      "cell_type": "code",
      "source": [
        "# Affichage de l'attribut de classe\n",
        "print(f\"Voiture 1: Nombre de roues = {voiture1.nombre_de_roues}\")\n",
        "print(f\"Voiture 2: Nombre de roues = {voiture2.nombre_de_roues}\")"
      ],
      "metadata": {
        "colab": {
          "base_uri": "https://localhost:8080/"
        },
        "id": "eroLJxbAmIH-",
        "outputId": "d0ddabce-ce13-4ba9-a22b-5315a66ae621"
      },
      "execution_count": 24,
      "outputs": [
        {
          "output_type": "stream",
          "name": "stdout",
          "text": [
            "Voiture 1: Nombre de roues = 4\n",
            "Voiture 2: Nombre de roues = 4\n"
          ]
        }
      ]
    },
    {
      "cell_type": "code",
      "source": [
        "# Affichage de l'attribut de classe\n",
        "print(f\"Voiture 1: Nombre de roues = {Voiture.nombre_de_roues}\")\n",
        "# print(f\"Voiture 2: Nombre de roues = {Voiture.couleur}\")"
      ],
      "metadata": {
        "colab": {
          "base_uri": "https://localhost:8080/"
        },
        "id": "7KYvmseymTBH",
        "outputId": "8c4219fe-b638-4512-fb93-01308ad9cf57"
      },
      "execution_count": 25,
      "outputs": [
        {
          "output_type": "stream",
          "name": "stdout",
          "text": [
            "Voiture 1: Nombre de roues = 4\n"
          ]
        }
      ]
    },
    {
      "cell_type": "code",
      "source": [
        "# Modification de l'attribut de classe via la classe\n",
        "Voiture.nombre_de_roues = 6"
      ],
      "metadata": {
        "id": "nCno129JnPDF"
      },
      "execution_count": 26,
      "outputs": []
    },
    {
      "cell_type": "code",
      "source": [
        "# Vérification après modification\n",
        "print(f\"Voiture 1 (après modif): Nombre de roues = {voiture1.nombre_de_roues}\")\n",
        "print(f\"Voiture 2 (après modif): Nombre de roues = {voiture2.nombre_de_roues}\")\n",
        "print(f\"Voiture 1 et 2 (après modif): Nombre de roues = {Voiture.nombre_de_roues}\")\n"
      ],
      "metadata": {
        "colab": {
          "base_uri": "https://localhost:8080/"
        },
        "id": "_ZJKvv-XnRtE",
        "outputId": "c1f28853-b714-4909-d862-5472728cb01a"
      },
      "execution_count": 27,
      "outputs": [
        {
          "output_type": "stream",
          "name": "stdout",
          "text": [
            "Voiture 1 (après modif): Nombre de roues = 6\n",
            "Voiture 2 (après modif): Nombre de roues = 6\n",
            "Voiture 1 et 2 (après modif): Nombre de roues = 6\n"
          ]
        }
      ]
    },
    {
      "cell_type": "code",
      "source": [
        "\n",
        "# Modification de l'attribut de classe via une instance (création d'un attribut d'instance du même nom)\n",
        "voiture1.nombre_de_roues = 8\n",
        "\n",
        "# Vérification après modification depuis une instance\n",
        "print(f\"Voiture 1 (modif depuis instance): Nombre de roues = {voiture1.nombre_de_roues}\")\n",
        "print(f\"Voiture 2 (toujours affecté par l'attribut de classe): Nombre de roues = {voiture2.nombre_de_roues}\")\n"
      ],
      "metadata": {
        "colab": {
          "base_uri": "https://localhost:8080/"
        },
        "id": "E13nvwlKnfgM",
        "outputId": "ecefff7e-155d-4681-abf8-3ab549d55c6e"
      },
      "execution_count": 28,
      "outputs": [
        {
          "output_type": "stream",
          "name": "stdout",
          "text": [
            "Voiture 1 (modif depuis instance): Nombre de roues = 8\n",
            "Voiture 2 (toujours affecté par l'attribut de classe): Nombre de roues = 6\n"
          ]
        }
      ]
    },
    {
      "cell_type": "code",
      "source": [
        "# Modification de l'attribut de classe via une instance (création d'un attribut d'instance du même nom)\n",
        "Voiture.nombre_de_roues = 10\n",
        "\n",
        "# Vérification après modification depuis une instance\n",
        "print(f\"Voiture 1 (modif depuis instance): Nombre de roues = {voiture1.nombre_de_roues}\")\n",
        "print(f\"Voiture 2 (toujours affecté par l'attribut de classe): Nombre de roues = {voiture2.nombre_de_roues}\")\n"
      ],
      "metadata": {
        "colab": {
          "base_uri": "https://localhost:8080/"
        },
        "id": "rMSRIKwXoh00",
        "outputId": "837114c7-a0d3-4178-8766-7d6ec40c6832"
      },
      "execution_count": 29,
      "outputs": [
        {
          "output_type": "stream",
          "name": "stdout",
          "text": [
            "Voiture 1 (modif depuis instance): Nombre de roues = 8\n",
            "Voiture 2 (toujours affecté par l'attribut de classe): Nombre de roues = 10\n"
          ]
        }
      ]
    },
    {
      "cell_type": "code",
      "source": [
        "class Voiture:\n",
        "    # Attribut de classe (commun à toutes les instances)\n",
        "    nombre_de_roues = 4\n",
        "\n",
        "    def __init__(self, marque, couleur):\n",
        "        # Attributs d'instance (propres à chaque instance)\n",
        "        self.marque = marque\n",
        "        self.couleur = couleur\n",
        "\n",
        "    # Méthode d'instance (agit sur une instance spécifique)\n",
        "    def afficher_info(self):\n",
        "        return f\"Marque: {self.marque}, Couleur: {self.couleur}, Roues: {self.nombre_de_roues}\"\n",
        "\n",
        "    # Méthode de classe (agit sur la classe entière, pas sur une instance)\n",
        "    @classmethod\n",
        "    def modifier_nombre_de_roues(cls, nombre):\n",
        "        cls.nombre_de_roues = nombre  # Modifie l'attribut de classe"
      ],
      "metadata": {
        "id": "bGEAQuL9p7o8"
      },
      "execution_count": 30,
      "outputs": []
    },
    {
      "cell_type": "code",
      "source": [
        "# Création de deux instances\n",
        "voiture1 = Voiture(\"Toyota\", \"Rouge\")\n",
        "voiture2 = Voiture(\"BMW\", \"Bleu\")\n",
        "\n",
        "# Utilisation de la méthode d'instance\n",
        "print(\"Méthodes d'instance:\")\n",
        "print(voiture1.afficher_info())  # Affecte uniquement voiture1\n",
        "print(voiture2.afficher_info())  # Affecte uniquement voiture2\n",
        "\n",
        "# Utilisation de la méthode de classe pour modifier l'attribut de classe\n",
        "print(\"\\nAvant modification du nombre de roues:\")\n",
        "print(f\"Voiture 1: {voiture1.nombre_de_roues} roues\")\n",
        "print(f\"Voiture 2: {voiture2.nombre_de_roues} roues\")\n"
      ],
      "metadata": {
        "colab": {
          "base_uri": "https://localhost:8080/"
        },
        "id": "WxtXR2eXqDoL",
        "outputId": "c40b166a-efc8-46da-fc04-df8bc2352d12"
      },
      "execution_count": 31,
      "outputs": [
        {
          "output_type": "stream",
          "name": "stdout",
          "text": [
            "Méthodes d'instance:\n",
            "Marque: Toyota, Couleur: Rouge, Roues: 4\n",
            "Marque: BMW, Couleur: Bleu, Roues: 4\n",
            "\n",
            "Avant modification du nombre de roues:\n",
            "Voiture 1: 4 roues\n",
            "Voiture 2: 4 roues\n"
          ]
        }
      ]
    },
    {
      "cell_type": "code",
      "source": [
        "\n",
        "Voiture.modifier_nombre_de_roues(6)  # Modification pour toutes les instances\n",
        "\n",
        "print(\"\\nAprès modification du nombre de roues avec la méthode de classe:\")\n",
        "print(f\"Voiture 1: {voiture1.nombre_de_roues} roues\")\n",
        "print(f\"Voiture 2: {voiture2.nombre_de_roues} roues\")"
      ],
      "metadata": {
        "colab": {
          "base_uri": "https://localhost:8080/"
        },
        "id": "cZ4RV5mEqHx8",
        "outputId": "381f6d57-2e43-426e-c36d-61db2b07d82a"
      },
      "execution_count": 32,
      "outputs": [
        {
          "output_type": "stream",
          "name": "stdout",
          "text": [
            "\n",
            "Après modification du nombre de roues avec la méthode de classe:\n",
            "Voiture 1: 6 roues\n",
            "Voiture 2: 6 roues\n"
          ]
        }
      ]
    }
  ]
}